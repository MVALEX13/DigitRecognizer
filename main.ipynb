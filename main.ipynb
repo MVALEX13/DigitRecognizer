{
 "cells": [
  {
   "attachments": {},
   "cell_type": "markdown",
   "metadata": {},
   "source": [
    "# Digital recognizer\n",
    "importation of the training dataframe"
   ]
  },
  {
   "cell_type": "code",
   "execution_count": 12,
   "metadata": {},
   "outputs": [],
   "source": [
    "# python librairies\n",
    "import numpy as np \n",
    "import pandas as pd\n",
    "import matplotlib.pyplot as plt"
   ]
  },
  {
   "attachments": {},
   "cell_type": "markdown",
   "metadata": {},
   "source": [
    "Some maths function for the linear regression"
   ]
  },
  {
   "cell_type": "code",
   "execution_count": 13,
   "metadata": {},
   "outputs": [],
   "source": [
    "def Phi0(xi):\n",
    "    return 1\n",
    "\n",
    "def Phik(xi, k):\n",
    "    return xi[k]\n",
    "\n",
    "def sigmoid(x):\n",
    "    sig =  1/(1 + np.exp(-x))\n",
    "    sig = np.maximum(0.00001, sig)                       \n",
    "    sig = np.minimum(0.99999, sig)                       # saturation to avoid the 1 that causes log problem\n",
    "    return sig"
   ]
  },
  {
   "attachments": {},
   "cell_type": "markdown",
   "metadata": {},
   "source": [
    "Creation of a logistic regression classe"
   ]
  },
  {
   "cell_type": "code",
   "execution_count": 14,
   "metadata": {},
   "outputs": [
    {
     "data": {
      "image/png": "[encoded data removed]",
      "text/plain": [
       "<Figure size 640x480 with 1 Axes>"
      ]
     },
     "metadata": {},
     "output_type": "display_data"
    }
   ],
   "source": [
    "class LogisticRegression:\n",
    "\n",
    "    # data relative attributs\n",
    "    frame_height_pxl = 28\n",
    "    frame_width_pxl = 28\n",
    "    nb_frames = 0\n",
    "    nb_pxls = frame_height_pxl*frame_width_pxl\n",
    "    nb_params = nb_pxls +1                                      # one parameter per pixel + the bias => nb_pxls + 1 parameters to optimize \n",
    "    X = None\n",
    "    \n",
    "    # model relative attributs\n",
    "   \n",
    "\n",
    "    # optimization relative attributs\n",
    "    Theta = np.empty( (nb_params,1) )                           # column vector of parameters to optimize\n",
    "    alpha = 0.00005\n",
    "    nb_it = 100                                                 # number of iteration\n",
    "\n",
    "    # user choice relative attributs \n",
    "    targeted_digit_number = 4                                   # as an example, could also be 1 or 2 ... or 9\n",
    "\n",
    "    # training data relative attributs\n",
    "    csv_train_data_filepath = None                              # file containing the raw datas \n",
    "    train_data= None                                            # matrix array containing all the pixels of each frame\n",
    "    y = None                                                    # column vector containing the output of each frame\n",
    "\n",
    "\n",
    "    # constructor\n",
    "    def __init__(self, csv_train_data_filepath, digit = 4):\n",
    "        self.csv_train_data_filepath = csv_train_data_filepath          \n",
    "        df_train = pd.read_csv(csv_train_data_filepath)          # reading the csv file containing all the training data\n",
    "        df_train = df_train[0:1000]                              # just keeping the 1000 first frame to enlight the computation\n",
    "        self.nb_frames = df_train.shape[0]                       # one frame per row\n",
    "        self.X = np.empty( (self.nb_frames, self.nb_params) )\n",
    "        self.targeted_digit_number = digit\n",
    "\n",
    "        # outputs vector\n",
    "        self.y = np.array(df_train['label'])                     # reading the label column\n",
    "        self.y = (self.y).reshape( ( (self.y).shape[0],1) )      # reshaping for more explicit dimensions\n",
    "        self.y[self.y != self.targeted_digit_number] = 0.0       # the output of the non corresponding digit frame put to 0\n",
    "        self.y[self.y == self.targeted_digit_number] = 1.0       # the output of the corresponding digit frame put to 1\n",
    "\n",
    "        # data matrix\n",
    "        df_train = df_train.drop('label', axis = 1)              # remove the column containg the y values, we specifie the axis so that pandas know where to look for 'label'\n",
    "        self.train_data= df_train.to_numpy()                     # nb_frames * nb_pxls matrix containg all the trainig data\n",
    "\n",
    "        \n",
    "        self.InitializeTheta()\n",
    "        self.ComputeX()                                          # X is constant through iteration we can then build it since the construction of the object\n",
    "\n",
    "\n",
    "\n",
    "\n",
    "    # This method display the digit of the ind-th frame.\n",
    "    def DisplayDigit(self,frame_index):\n",
    "        Z = self.train_data[frame_index,:]                       # acces based on the index\n",
    "\n",
    "        Frame1 = np.array(Z)\n",
    "        Frame1 = Frame1.reshape((self.frame_height_pxl, self.frame_width_pxl))\n",
    "\n",
    "        fig = plt.figure()\n",
    "        im = plt.imshow(Frame1)\n",
    "        fig.suptitle(f'{frame_index}-th frame')\n",
    "\n",
    "\n",
    "\n",
    "    # The X matrix contain the value of all the subpart of the model on each column and for all frame in each row\n",
    "    def ComputeX(self):\n",
    "        for row in range(self.nb_frames):                         # on balaye chaque ligne du dataframe\n",
    "            xi = self.train_data[row,:]\n",
    "            xi = xi.reshape ( (xi.shape[0],1) )                                        \n",
    "            self.X[row,0] = Phi0(xi)                                  \n",
    "            for col in range(1, self.nb_params):\n",
    "                self.X[row,col] = Phik(xi,col-1)                  # (col-1) parce que 1 parametre de plus que de nb de pixel (le parametre constant)\n",
    "        \n",
    "    \n",
    "    # return the value of all the subpart of a model for a given point\n",
    "    def GetPhiVec(self,xi):\n",
    "        Phi_vec = np.empty( (self.nb_params,1))\n",
    "        \n",
    "        Phi_vec[0] = Phi0(xi)                                     # bias\n",
    "        for i in range(1,self.nb_pxls):\n",
    "            Phi_vec[i] = Phik(xi,i)\n",
    "        \n",
    "        return Phi_vec\n",
    "    \n",
    "\n",
    "\n",
    "    def InitializeTheta(self):\n",
    "        Theta0 = 20*np.random.rand(self.nb_params,1)\n",
    "        self.Theta = Theta0\n",
    "\n",
    "\n",
    "    def ComputeDecisionVec(self):\n",
    "        decision_vec = np.empty( (self.nb_frames,1))\n",
    "        for i in range(self.nb_frames):\n",
    "\n",
    "            # reading and extracting the i-th row of the data frame\n",
    "            xi = self.train_data[i,:]\n",
    "            xi = xi.reshape( (xi.shape[0],1) )\n",
    "\n",
    "            Phi_vec = self.GetPhiVec(xi)\n",
    "\n",
    "            decision_vec[i] = sigmoid( np.matmul( np.transpose(self.Theta),Phi_vec ) )\n",
    "        \n",
    "        return decision_vec\n",
    "\n",
    "    def ComputeCost(self):\n",
    "        decision_vec = self.ComputeDecisionVec()\n",
    "        J = -sum(self.y * np.log(decision_vec) + (1-self.y) * np.log(1 - decision_vec))\n",
    "        return J\n",
    "    \n",
    "\n",
    "\n",
    "    def ComputeGrad(self):\n",
    "        X_t = np.transpose( self.X )\n",
    "        decision_vec = self.ComputeDecisionVec()\n",
    "        grad = np.matmul( X_t, (decision_vec - self.y))\n",
    "        return grad\n",
    "    \n",
    "    def ComputenextStep(self):\n",
    "        grad_i = self.ComputeGrad()\n",
    "        self.Theta = self.Theta -self.alpha*grad_i\n",
    "\n",
    "\n",
    "\n",
    "    def TrainModel(self):\n",
    "\n",
    "        # computaing\n",
    "        cost = np.empty( (self.nb_it,1) )\n",
    "        for i in range(self.nb_it):\n",
    "            self.ComputenextStep()\n",
    "            \n",
    "            cost[i] = self.ComputeCost()\n",
    "            if i%10 == 0:\n",
    "                print(f'epoch : {i}, cost = {cost[i]}')\n",
    "\n",
    "\n",
    "        # plotting\n",
    "        import matplotlib.animation as animation\n",
    "\n",
    "        fig, ax = plt.subplots()\n",
    "        ax.set_title(\"Cost\")\n",
    "        ax.set_xlabel(\"iterations\")\n",
    "\n",
    "        def animate(i):\n",
    "            ax.plot(range(i),cost[0:i],'b-')\n",
    "        \n",
    "        anim = animation.FuncAnimation(fig, animate, frames = self.nb_it, interval = 100, repeat = False)\n",
    "        anim.save('figures/cost_evolution.gif')\n",
    "        plt.show()\n",
    "\n",
    "        \n",
    "\n",
    "        return self.Theta\n",
    "    \n",
    "\n",
    "    # Testing the model\n",
    "    def TestModelOnTrainingData(self):\n",
    "        decision_vec = self.ComputeDecisionVec()\n",
    "        correct_prediction_counter = 0\n",
    "        for i in range(self.nb_frames):\n",
    "            if ( ( (decision_vec[i]>0.9)&(self.y[i] == 1) ) | ( (decision_vec[i]< 0.1)&(self.y[i]==0) ) ):\n",
    "                correct_prediction_counter += 1\n",
    "        \n",
    "        return (correct_prediction_counter/self.nb_frames)\n",
    "    \n",
    "\n",
    "        \n",
    "MyLogisticregression = LogisticRegression('./train/train.csv')\n",
    "MyLogisticregression.DisplayDigit(frame_index = 3)\n",
    "        "
   ]
  },
  {
   "cell_type": "code",
   "execution_count": 15,
   "metadata": {},
   "outputs": [
    {
     "name": "stdout",
     "output_type": "stream",
     "text": [
      "epoch : 0, cost = [10338.60808755]\n"
     ]
    },
    {
     "name": "stderr",
     "output_type": "stream",
     "text": [
      "/tmp/ipykernel_9654/2861814117.py:8: RuntimeWarning: overflow encountered in exp\n",
      "  sig =  1/(1 + np.exp(-x))\n"
     ]
    },
    {
     "name": "stdout",
     "output_type": "stream",
     "text": [
      "epoch : 10, cost = [1358.53402491]\n",
      "epoch : 20, cost = [1001.6336455]\n",
      "epoch : 30, cost = [840.45282899]\n",
      "epoch : 40, cost = [703.70020508]\n",
      "epoch : 50, cost = [748.34950527]\n",
      "epoch : 60, cost = [679.27201248]\n",
      "epoch : 70, cost = [644.73326609]\n",
      "epoch : 80, cost = [587.16868876]\n",
      "epoch : 90, cost = [564.14285783]\n"
     ]
    },
    {
     "name": "stderr",
     "output_type": "stream",
     "text": [
      "MovieWriter ffmpeg unavailable; using Pillow instead.\n"
     ]
    },
    {
     "data": {
      "image/png": "[encoded data removed]",
      "text/plain": [
       "<Figure size 640x480 with 1 Axes>"
      ]
     },
     "metadata": {},
     "output_type": "display_data"
    },
    {
     "name": "stderr",
     "output_type": "stream",
     "text": [
      "/tmp/ipykernel_9654/2861814117.py:8: RuntimeWarning: overflow encountered in exp\n",
      "  sig =  1/(1 + np.exp(-x))\n"
     ]
    },
    {
     "name": "stdout",
     "output_type": "stream",
     "text": [
      "correct prediction = 95.1 %\n"
     ]
    }
   ],
   "source": [
    "\n",
    "\n",
    "def main():\n",
    "    Logisticregression4 = LogisticRegression('./train/train.csv',4)\n",
    "    Theta_opt = Logisticregression4.TrainModel()\n",
    "    correctness_pred = Logisticregression4.TestModelOnTrainingData()\n",
    "    print(f'correct prediction = {correctness_pred*100} %')\n",
    "\n",
    "\n",
    "if __name__ == \"__main__\":\n",
    "    main()    \n",
    "\n"
   ]
  }
 ],
 "metadata": {
  "kernelspec": {
   "display_name": "env_virtuel",
   "language": "python",
   "name": "python3"
  },
  "language_info": {
   "codemirror_mode": {
    "name": "ipython",
    "version": 3
   },
   "file_extension": ".py",
   "mimetype": "text/x-python",
   "name": "python",
   "nbconvert_exporter": "python",
   "pygments_lexer": "ipython3",
   "version": "3.10.6"
  },
  "orig_nbformat": 4,
  "vscode": {
   "interpreter": {
    "hash": "c1076c28fc1bbbb6f255c3d770ea8a88aec6af2b875a42ba8224c22d324aa85b"
   }
  }
 },
 "nbformat": 4,
 "nbformat_minor": 2
}
